{
 "cells": [
  {
   "cell_type": "code",
   "execution_count": 6,
   "id": "2374a162",
   "metadata": {},
   "outputs": [],
   "source": [
    "from PyPDF2 import PdfFileReader,PdfFileWriter"
   ]
  },
  {
   "cell_type": "code",
   "execution_count": 71,
   "id": "69a36ac4",
   "metadata": {},
   "outputs": [],
   "source": [
    "def wordcount(text):\n",
    "    text.replace(\"\\n\",\" \")\n",
    "    words=list(text.split())\n",
    "    print(words)\n",
    "    return len(words)"
   ]
  },
  {
   "cell_type": "code",
   "execution_count": 72,
   "id": "d964ba4d",
   "metadata": {},
   "outputs": [],
   "source": [
    "def pdfreader(filepath,password=None):\n",
    "    file=PdfFileReader(filepath)\n",
    "    text=\"\"\n",
    "    if file.isEncrypted:\n",
    "        out=PdfFileWriter()\n",
    "        file.decrypt(password)\n",
    "        for index in range(file.numPages):\n",
    "            page=file.getPage(index)\n",
    "            out.addPage(page)\n",
    "        with open(\"decrypted.pdf\", \"wb\") as f:\n",
    "            out.write(f)\n",
    "        filepath=\"decrypted.pdf\"\n",
    "    pdfFileObj=open(filepath,\"rb\")\n",
    "    pdfreader=PyPDF2.PdfFileReader(pdfFileObj)\n",
    "    text=\"\"\n",
    "    for i in range(pdfreader.numPages):\n",
    "        pageObj=pdfreader.getPage(i)\n",
    "        text+=pageObj.extractText()\n",
    "    pdfFileObj.close() \n",
    "    return text"
   ]
  },
  {
   "cell_type": "code",
   "execution_count": 73,
   "id": "79500991",
   "metadata": {},
   "outputs": [
    {
     "name": "stdout",
     "output_type": "stream",
     "text": [
      "['A', 'Simple', 'PDF', 'File', 'This', 'is', 'a', 'small', 'demonstration', '.pdf', 'file', '-', 'just', 'for', 'use', 'in', 'the', 'Virtual', 'Mechanics', 'tutorials.', 'More', 'text.', 'And', 'more', 'text.', 'And', 'more', 'text.', 'And', 'more', 'text.', 'And', 'more', 'text.', 'And', 'more', 'text.', 'And', 'more', 'text.', 'And', 'more', 'text.', 'And', 'more', 'text.', 'And', 'more', 'text.', 'And', 'more', 'text.', 'Boring,', 'zzzzz.', 'And', 'more', 'text.', 'And', 'more', 'text.', 'And', 'more', 'text.', 'And', 'more', 'text.', 'And', 'more', 'text.', 'And', 'more', 'text.', 'And', 'more', 'text.', 'And', 'more', 'text.', 'And', 'more', 'text.', 'And', 'more', 'text.', 'And', 'more', 'text.', 'And', 'more', 'text.', 'And', 'more', 'text.', 'And', 'more', 'text.', 'And', 'more', 'text.', 'And', 'more', 'text.', 'Even', 'more.', 'Continued', 'on', 'page', '2', '...', 'Simple', 'PDF', 'File', '2', '...continued', 'from', 'page', '1.', 'Yet', 'more', 'text.', 'And', 'more', 'text.', 'And', 'more', 'text.', 'And', 'more', 'text.', 'And', 'more', 'text.', 'And', 'more', 'text.', 'And', 'more', 'text.', 'And', 'more', 'text.', 'Oh,', 'how', 'boring', 'typing', 'this', 'stuff.', 'But', 'not', 'as', 'boring', 'as', 'watching', 'paint', 'dry.', 'And', 'more', 'text.', 'And', 'more', 'text.', 'And', 'more', 'text.', 'And', 'more', 'text.', 'Boring.', 'More,', 'a', 'little', 'more', 'text.', 'The', 'end,', 'and', 'just', 'as', 'well.']\n",
      "179\n"
     ]
    }
   ],
   "source": [
    "filepath=\"sample.pdf\"\n",
    "print(wordcount(pdfreader(filepath)))"
   ]
  },
  {
   "cell_type": "code",
   "execution_count": 74,
   "id": "7661f208",
   "metadata": {},
   "outputs": [],
   "source": [
    "def encrypt(filepath,password):\n",
    "    output= PdfFileWriter()\n",
    "    file=PdfFileReader(filepath)\n",
    "    num=file.numPages\n",
    "    for index in range(num):\n",
    "        page=file.getPage(index)\n",
    "        output.addPage(page)\n",
    "    output.encrypt(password)\n",
    "    with open(\"encypted_file.pdf\",\"wb\") as f:\n",
    "        output.write(f)\n",
    "    return \"encypted_file.pdf\""
   ]
  },
  {
   "cell_type": "code",
   "execution_count": 75,
   "id": "4cec5fc1",
   "metadata": {},
   "outputs": [
    {
     "data": {
      "text/plain": [
       "'encypted_file.pdf'"
      ]
     },
     "execution_count": 75,
     "metadata": {},
     "output_type": "execute_result"
    }
   ],
   "source": [
    "encrypt(\"sample.pdf\",\"harish\")"
   ]
  },
  {
   "cell_type": "code",
   "execution_count": 76,
   "id": "1e54317e",
   "metadata": {},
   "outputs": [],
   "source": [
    "filepath=\"encypted_file.pdf\""
   ]
  },
  {
   "cell_type": "code",
   "execution_count": 78,
   "id": "d3325568",
   "metadata": {},
   "outputs": [
    {
     "name": "stdout",
     "output_type": "stream",
     "text": [
      " A Simple PDF File \n",
      " This is a small demonstration .pdf file - \n",
      " just for use in the Virtual Mechanics tutorials. More text. And more \n",
      " text. And more text. And more text. And more text. \n",
      " And more text. And more text. And more text. And more text. And more \n",
      " text. And more text. Boring, zzzzz. And more text. And more text. And \n",
      " more text. And more text. And more text. And more text. And more text. \n",
      " And more text. And more text. \n",
      " And more text. And more text. And more text. And more text. And more \n",
      " text. And more text. And more text. Even more. Continued on page 2 ...\n",
      " Simple PDF File 2 \n",
      " ...continued from page 1. Yet more text. And more text. And more text. \n",
      " And more text. And more text. And more text. And more text. And more \n",
      " text. Oh, how boring typing this stuff. But not as boring as watching \n",
      " paint dry. And more text. And more text. And more text. And more text. \n",
      " Boring.  More, a little more text. The end, and just as well. \n",
      "\n"
     ]
    }
   ],
   "source": [
    "print(pdfreader(filepath,\"harish\"))"
   ]
  },
  {
   "cell_type": "code",
   "execution_count": null,
   "id": "b2fc7c26",
   "metadata": {},
   "outputs": [],
   "source": []
  }
 ],
 "metadata": {
  "kernelspec": {
   "display_name": "Python 3",
   "language": "python",
   "name": "python3"
  },
  "language_info": {
   "codemirror_mode": {
    "name": "ipython",
    "version": 3
   },
   "file_extension": ".py",
   "mimetype": "text/x-python",
   "name": "python",
   "nbconvert_exporter": "python",
   "pygments_lexer": "ipython3",
   "version": "3.8.8"
  }
 },
 "nbformat": 4,
 "nbformat_minor": 5
}
