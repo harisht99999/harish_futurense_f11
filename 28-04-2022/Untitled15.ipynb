{
 "cells": [
  {
   "cell_type": "code",
   "execution_count": 1,
   "id": "f809f4a1",
   "metadata": {},
   "outputs": [
    {
     "data": {
      "text/plain": [
       "('hari', 'i', 'sh')"
      ]
     },
     "execution_count": 1,
     "metadata": {},
     "output_type": "execute_result"
    }
   ],
   "source": [
    "s=\"hariish\"\n",
    "s.rpartition(\"i\")"
   ]
  },
  {
   "cell_type": "code",
   "execution_count": 51,
   "id": "f144354b",
   "metadata": {},
   "outputs": [
    {
     "name": "stdout",
     "output_type": "stream",
     "text": [
      "Requirement already satisfied: tabulate in e:\\anaconda1\\lib\\site-packages (0.8.9)\n",
      "Note: you may need to restart the kernel to use updated packages.\n"
     ]
    }
   ],
   "source": [
    "pip install tabulate"
   ]
  },
  {
   "cell_type": "code",
   "execution_count": 2,
   "id": "2ab8b85c",
   "metadata": {},
   "outputs": [],
   "source": [
    "from tabulate import tabulate"
   ]
  },
  {
   "cell_type": "code",
   "execution_count": 99,
   "id": "381b2813",
   "metadata": {},
   "outputs": [
    {
     "name": "stdout",
     "output_type": "stream",
     "text": [
      "\u001b[1mLno.    file1       file2    sentence1           sentence2\n",
      "------  ----------  -------  ------------------  ------------------\n",
      "\u001b[92m1 line  \u001b[92mi.          \u001b[92mj        \u001b[92mi\u001b[92m \u001b[92ma\u001b[92mm\u001b[92m \u001b[92mh\u001b[92ma\u001b[92mr\u001b[91mi\u001b[92ms\u001b[92mh\u001b[92m \u001b[92mt\u001b[92mh\u001b[92mo\u001b[92mt\u001b[92ma\u001b[91m.\u001b[92m  \u001b[92mi\u001b[92m \u001b[92ma\u001b[92mm\u001b[92m \u001b[92mh\u001b[92ma\u001b[92mr\u001b[91mj\u001b[92ms\u001b[92mh\u001b[92m \u001b[92mt\u001b[92mh\u001b[92mo\u001b[92mt\u001b[92ma\u001b[91m \u001b[92m\n",
      "\u001b[92m2 line  \u001b[92mh           \u001b[92mi        \u001b[92mh\u001b[92ma\u001b[92mr\u001b[92mi\u001b[92ms\u001b[91mh\u001b[92m              \u001b[92mh\u001b[92ma\u001b[92mr\u001b[92mi\u001b[92ms\u001b[91mi\u001b[92m\n",
      "\u001b[92m3 line  \u001b[92marun thota  \u001b[92mhota     \u001b[92mt\u001b[91ma\u001b[91mr\u001b[91mu\u001b[91mn\u001b[91m \u001b[91mt\u001b[91mh\u001b[91mo\u001b[91mt\u001b[91ma         \u001b[92mt\u001b[91mh\u001b[91mo\u001b[91mt\u001b[91ma\n"
     ]
    }
   ],
   "source": [
    "red='\\033[91m'\n",
    "green='\\033[92m'\n",
    "bold='\\u001b[1m'\n",
    "file=open(\"text1.txt\",\"r\")\n",
    "file1=open(\"text2.txt\",\"r\")\n",
    "print(bold,end=\"\")\n",
    "c=file.readline()\n",
    "c1=file1.readline()\n",
    "table=[]\n",
    "j=0\n",
    "while c!=\"\" and c1!=\"\":\n",
    "    i=0\n",
    "    color=\"\"\n",
    "    color1=\"\"\n",
    "    t1=\"\"\n",
    "    t2=\"\"\n",
    "    while i<len(c) and i<len(c1):\n",
    "        if c[i]!=c1[i]:\n",
    "            color=color+red+c[i]\n",
    "            color1=color1+red+c1[i]\n",
    "            t1+=c[i]\n",
    "            t2+=c1[i]\n",
    "        else:\n",
    "            color=color+green+c[i]\n",
    "            color1=color1+green+c1[i]\n",
    "        i+=1\n",
    "    while i<len(c):\n",
    "        color+=red+c[i]\n",
    "        t1+=c[i]\n",
    "        i+=1\n",
    "    while i<len(c1):\n",
    "        color1+=red+c1[i]\n",
    "        t2+=c1[i]\n",
    "        i+=1\n",
    "    c=file.readline()\n",
    "    c1=file1.readline()\n",
    "    if t1==\"\":\n",
    "        t1=\"-\"\n",
    "    if t2==\"\":\n",
    "        t2=\"-\"\n",
    "    table.append([green+str(j+1)+\" \"+\"line\",green+t1,green+t2,color,color1])\n",
    "    j+=1\n",
    "while c!=\"\":\n",
    "    table.append([green+str(j+1)+\" \"+\"line\",green+c,\"-\",red+c,\"-\"])\n",
    "    j+=1\n",
    "    c=file.readline()\n",
    "while c1!=\"\":\n",
    "    table.append([green+str(j+1)+\" \"+\"line\",\"-\",green+c1,\"-\",red+c1])\n",
    "    j+=1\n",
    "    c1=file1.readline()\n",
    "headers=[\"Lno.\",\"file1\",\"file2\",\"sentence1\",\"sentence2\"]\n",
    "print(tabulate(table, headers, tablefmt=\"simple\"))\n"
   ]
  },
  {
   "cell_type": "code",
   "execution_count": 24,
   "id": "b19078ad",
   "metadata": {},
   "outputs": [],
   "source": [
    "import tkinter as tk\n",
    "from tkinter.ttk import *"
   ]
  },
  {
   "cell_type": "code",
   "execution_count": 98,
   "id": "200b2f58",
   "metadata": {},
   "outputs": [
    {
     "ename": "TclError",
     "evalue": "bad option \"-borderwidth\": must be -column, -columnspan, -in, -ipadx, -ipady, -padx, -pady, -row, -rowspan, or -sticky",
     "output_type": "error",
     "traceback": [
      "\u001b[1;31m---------------------------------------------------------------------------\u001b[0m",
      "\u001b[1;31mTclError\u001b[0m                                  Traceback (most recent call last)",
      "\u001b[1;32m<ipython-input-98-4bf877f00630>\u001b[0m in \u001b[0;36m<module>\u001b[1;34m\u001b[0m\n\u001b[0;32m     15\u001b[0m     \u001b[0mclock\u001b[0m\u001b[1;33m.\u001b[0m\u001b[0mafter\u001b[0m\u001b[1;33m(\u001b[0m\u001b[1;36m200\u001b[0m\u001b[1;33m,\u001b[0m \u001b[0mtick\u001b[0m\u001b[1;33m)\u001b[0m\u001b[1;33m\u001b[0m\u001b[1;33m\u001b[0m\u001b[0m\n\u001b[0;32m     16\u001b[0m \u001b[0mtick\u001b[0m\u001b[1;33m(\u001b[0m\u001b[1;33m)\u001b[0m\u001b[1;33m\u001b[0m\u001b[1;33m\u001b[0m\u001b[0m\n\u001b[1;32m---> 17\u001b[1;33m \u001b[0mclock\u001b[0m\u001b[1;33m.\u001b[0m\u001b[0mgrid\u001b[0m\u001b[1;33m(\u001b[0m\u001b[0mframe\u001b[0m\u001b[1;33m,\u001b[0m\u001b[0mrow\u001b[0m\u001b[1;33m=\u001b[0m\u001b[1;36m0\u001b[0m\u001b[1;33m,\u001b[0m\u001b[0mcolumn\u001b[0m\u001b[1;33m=\u001b[0m\u001b[1;36m0\u001b[0m\u001b[1;33m)\u001b[0m\u001b[1;33m\u001b[0m\u001b[1;33m\u001b[0m\u001b[0m\n\u001b[0m\u001b[0;32m     18\u001b[0m \u001b[0mredbutton\u001b[0m \u001b[1;33m=\u001b[0m \u001b[0mButton\u001b[0m\u001b[1;33m(\u001b[0m\u001b[0mframe\u001b[0m\u001b[1;33m,\u001b[0m \u001b[0mtext\u001b[0m\u001b[1;33m=\u001b[0m\u001b[1;34m\"Red\"\u001b[0m\u001b[1;33m)\u001b[0m\u001b[1;33m\u001b[0m\u001b[1;33m\u001b[0m\u001b[0m\n\u001b[0;32m     19\u001b[0m \u001b[0mredbutton\u001b[0m\u001b[1;33m.\u001b[0m\u001b[0mpack\u001b[0m\u001b[1;33m(\u001b[0m\u001b[1;33m)\u001b[0m\u001b[1;33m\u001b[0m\u001b[1;33m\u001b[0m\u001b[0m\n",
      "\u001b[1;32mE:\\anaconda1\\lib\\tkinter\\__init__.py\u001b[0m in \u001b[0;36mgrid_configure\u001b[1;34m(self, cnf, **kw)\u001b[0m\n\u001b[0;32m   2491\u001b[0m                       \u001b[0mwidget\u001b[0m \u001b[0mstick\u001b[0m \u001b[0mto\u001b[0m \u001b[0mthe\u001b[0m \u001b[0mcell\u001b[0m \u001b[0mboundary\u001b[0m\u001b[1;33m\u001b[0m\u001b[1;33m\u001b[0m\u001b[0m\n\u001b[0;32m   2492\u001b[0m         \"\"\"\n\u001b[1;32m-> 2493\u001b[1;33m         self.tk.call(\n\u001b[0m\u001b[0;32m   2494\u001b[0m               \u001b[1;33m(\u001b[0m\u001b[1;34m'grid'\u001b[0m\u001b[1;33m,\u001b[0m \u001b[1;34m'configure'\u001b[0m\u001b[1;33m,\u001b[0m \u001b[0mself\u001b[0m\u001b[1;33m.\u001b[0m\u001b[0m_w\u001b[0m\u001b[1;33m)\u001b[0m\u001b[1;33m\u001b[0m\u001b[1;33m\u001b[0m\u001b[0m\n\u001b[0;32m   2495\u001b[0m               + self._options(cnf, kw))\n",
      "\u001b[1;31mTclError\u001b[0m: bad option \"-borderwidth\": must be -column, -columnspan, -in, -ipadx, -ipady, -padx, -pady, -row, -rowspan, or -sticky"
     ]
    }
   ],
   "source": [
    "import time\n",
    "root = tk.Tk()\n",
    "root.geometry('500x500')\n",
    "frame = Frame(root)\n",
    "frame.pack()\n",
    "time1 = ''\n",
    "clock = Label(root, font=('times', 20, 'bold'))\n",
    "\n",
    "def tick():\n",
    "    global time1\n",
    "    time2 = time.strftime('%H:%M:%S')\n",
    "    if time2 != time1:\n",
    "        time1 = time2\n",
    "        clock.config(text=time2)\n",
    "    clock.after(200, tick)\n",
    "tick()\n",
    "clock.grid(frame,row=0,column=0)\n",
    "redbutton = Button(frame, text=\"Red\")\n",
    "redbutton.pack()\n",
    "root.mainloop()"
   ]
  },
  {
   "cell_type": "code",
   "execution_count": 90,
   "id": "18e400cf",
   "metadata": {},
   "outputs": [],
   "source": []
  },
  {
   "cell_type": "code",
   "execution_count": null,
   "id": "9bb31019",
   "metadata": {},
   "outputs": [],
   "source": []
  }
 ],
 "metadata": {
  "kernelspec": {
   "display_name": "Python 3",
   "language": "python",
   "name": "python3"
  },
  "language_info": {
   "codemirror_mode": {
    "name": "ipython",
    "version": 3
   },
   "file_extension": ".py",
   "mimetype": "text/x-python",
   "name": "python",
   "nbconvert_exporter": "python",
   "pygments_lexer": "ipython3",
   "version": "3.8.8"
  }
 },
 "nbformat": 4,
 "nbformat_minor": 5
}
