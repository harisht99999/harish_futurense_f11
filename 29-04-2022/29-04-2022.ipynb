{
 "cells": [
  {
   "cell_type": "code",
   "execution_count": 7,
   "id": "7fca042e",
   "metadata": {},
   "outputs": [
    {
     "name": "stdout",
     "output_type": "stream",
     "text": [
      "{'name': 'dhoni', 'age': 33}\n"
     ]
    }
   ],
   "source": [
    "#we can not use + for concat in dictionary\n",
    "var={\"name\":\"dhoni\"}\n",
    "var1={\"age\":33}\n",
    "output={**var,**var1}\n",
    "print(output)"
   ]
  },
  {
   "cell_type": "code",
   "execution_count": 8,
   "id": "27a72dbc",
   "metadata": {},
   "outputs": [
    {
     "name": "stdout",
     "output_type": "stream",
     "text": [
      "{'name': 'dhoni', 'age': 33}\n"
     ]
    }
   ],
   "source": [
    "var={\"name\":\"dhoni\"}\n",
    "var1={\"age\":33}\n",
    "var.update(var1)\n",
    "print(var)"
   ]
  },
  {
   "cell_type": "code",
   "execution_count": 9,
   "id": "57e0dbf1",
   "metadata": {},
   "outputs": [],
   "source": [
    "#all immutable can be used as keys\n",
    "var={\"name\":\"string\",True:\"keyword\",1.2:\"float\",(\"a\",\"b\"):tuple,}"
   ]
  },
  {
   "cell_type": "code",
   "execution_count": 10,
   "id": "f2566854",
   "metadata": {},
   "outputs": [
    {
     "name": "stdout",
     "output_type": "stream",
     "text": [
      "<class 'tuple'>\n"
     ]
    }
   ],
   "source": [
    "print(var[(\"a\",\"b\")])"
   ]
  },
  {
   "cell_type": "code",
   "execution_count": 11,
   "id": "a588de44",
   "metadata": {},
   "outputs": [
    {
     "name": "stdout",
     "output_type": "stream",
     "text": [
      "keyword\n"
     ]
    }
   ],
   "source": [
    "print(var[True])"
   ]
  },
  {
   "cell_type": "code",
   "execution_count": 12,
   "id": "c6269278",
   "metadata": {},
   "outputs": [
    {
     "name": "stdout",
     "output_type": "stream",
     "text": [
      "<class 'tuple'>\n"
     ]
    }
   ],
   "source": [
    "print(var[\"a\",\"b\"])"
   ]
  },
  {
   "cell_type": "code",
   "execution_count": 17,
   "id": "927468cd",
   "metadata": {},
   "outputs": [],
   "source": [
    "#all keys are same here so it will take last value and replace all others\n",
    "var={1:\"integer\",True:\"keyword\",1.0:\"float\"}"
   ]
  },
  {
   "cell_type": "code",
   "execution_count": 18,
   "id": "c48ddcaa",
   "metadata": {},
   "outputs": [
    {
     "data": {
      "text/plain": [
       "'float'"
      ]
     },
     "execution_count": 18,
     "metadata": {},
     "output_type": "execute_result"
    }
   ],
   "source": [
    "var[1]"
   ]
  },
  {
   "cell_type": "code",
   "execution_count": 19,
   "id": "70515660",
   "metadata": {},
   "outputs": [
    {
     "data": {
      "text/plain": [
       "{1: 'float'}"
      ]
     },
     "execution_count": 19,
     "metadata": {},
     "output_type": "execute_result"
    }
   ],
   "source": [
    "var"
   ]
  },
  {
   "cell_type": "code",
   "execution_count": 24,
   "id": "ba87990b",
   "metadata": {},
   "outputs": [],
   "source": [
    "var={\"name\":\"string\",\"True\":\"keyword\",\"1.2\":\"float\",\"1\":tuple,}"
   ]
  },
  {
   "cell_type": "code",
   "execution_count": 29,
   "id": "b5c0598b",
   "metadata": {},
   "outputs": [
    {
     "name": "stdout",
     "output_type": "stream",
     "text": [
      "{'1': <class 'tuple'>, '1.2': 'float', 'True': 'keyword', 'name': 'string'}\n"
     ]
    }
   ],
   "source": [
    "print(dict(sorted(var.items())))"
   ]
  },
  {
   "cell_type": "code",
   "execution_count": 30,
   "id": "7a32d3d8",
   "metadata": {},
   "outputs": [],
   "source": [
    "keys=list(var.keys())"
   ]
  },
  {
   "cell_type": "code",
   "execution_count": 31,
   "id": "3e96b3c5",
   "metadata": {},
   "outputs": [],
   "source": [
    "keys.sort()"
   ]
  },
  {
   "cell_type": "code",
   "execution_count": 32,
   "id": "52f0b6a3",
   "metadata": {},
   "outputs": [
    {
     "name": "stdout",
     "output_type": "stream",
     "text": [
      "{'1': <class 'tuple'>, '1.2': 'float', 'True': 'keyword', 'name': 'string'}\n"
     ]
    }
   ],
   "source": [
    "d=dict()\n",
    "for i in keys:\n",
    "    d[i]=var[i]\n",
    "print(d)"
   ]
  },
  {
   "cell_type": "code",
   "execution_count": 33,
   "id": "240ed759",
   "metadata": {},
   "outputs": [
    {
     "name": "stdout",
     "output_type": "stream",
     "text": [
      "{'1': <class 'tuple'>, '1.2': 'float', 'True': 'keyword', 'name': 'string'}\n"
     ]
    }
   ],
   "source": [
    "print({x:var[x] for x in keys})"
   ]
  },
  {
   "cell_type": "code",
   "execution_count": 34,
   "id": "2f7b9975",
   "metadata": {},
   "outputs": [
    {
     "name": "stdout",
     "output_type": "stream",
     "text": [
      "{'1': <class 'tuple'>, '1.2': 'float', 'True': 'keyword', 'name': 'string'}\n"
     ]
    }
   ],
   "source": [
    "print({x:var[x] for x in sorted(list(var.keys()))})"
   ]
  },
  {
   "cell_type": "code",
   "execution_count": 40,
   "id": "fc6ea5b3",
   "metadata": {},
   "outputs": [
    {
     "data": {
      "text/plain": [
       "['harish', 'tarun', 'thota']"
      ]
     },
     "execution_count": 40,
     "metadata": {},
     "output_type": "execute_result"
    }
   ],
   "source": [
    "l=[\"harish\",\"tarun\",\"thota\"]\n",
    "l.sort(key=len,reverse=True)\n",
    "l"
   ]
  },
  {
   "cell_type": "code",
   "execution_count": 72,
   "id": "9420d911",
   "metadata": {},
   "outputs": [],
   "source": [
    "var='{\"name\":\"dhoni\",\"age\":33}'"
   ]
  },
  {
   "cell_type": "code",
   "execution_count": 42,
   "id": "c5c2a266",
   "metadata": {},
   "outputs": [
    {
     "data": {
      "text/plain": [
       "str"
      ]
     },
     "execution_count": 42,
     "metadata": {},
     "output_type": "execute_result"
    }
   ],
   "source": [
    "type(var)"
   ]
  },
  {
   "cell_type": "code",
   "execution_count": 45,
   "id": "39d8e41e",
   "metadata": {},
   "outputs": [],
   "source": [
    "var=var[1:-1]\n",
    "c=var.split(\",\")"
   ]
  },
  {
   "cell_type": "code",
   "execution_count": 64,
   "id": "34b2e89a",
   "metadata": {},
   "outputs": [],
   "source": [
    "d1=dict()"
   ]
  },
  {
   "cell_type": "code",
   "execution_count": 65,
   "id": "41958db1",
   "metadata": {},
   "outputs": [],
   "source": [
    "for i in c:\n",
    "    a,b=map(str,i.split(\":\"))\n",
    "    a=a.strip(\"'\")\n",
    "    b=b.strip(\"'\")\n",
    "    d1[a]=b"
   ]
  },
  {
   "cell_type": "code",
   "execution_count": 66,
   "id": "3d453283",
   "metadata": {},
   "outputs": [
    {
     "data": {
      "text/plain": [
       "{'name': 'dhoni', 'age': '33'}"
      ]
     },
     "execution_count": 66,
     "metadata": {},
     "output_type": "execute_result"
    }
   ],
   "source": [
    "d1"
   ]
  },
  {
   "cell_type": "code",
   "execution_count": 68,
   "id": "fd096644",
   "metadata": {},
   "outputs": [],
   "source": [
    "d1['name']='kohli'"
   ]
  },
  {
   "cell_type": "code",
   "execution_count": 69,
   "id": "62ba21aa",
   "metadata": {},
   "outputs": [
    {
     "data": {
      "text/plain": [
       "{'name': 'kohli', 'age': '33'}"
      ]
     },
     "execution_count": 69,
     "metadata": {},
     "output_type": "execute_result"
    }
   ],
   "source": [
    "d1"
   ]
  },
  {
   "cell_type": "code",
   "execution_count": 70,
   "id": "15e8bfa1",
   "metadata": {},
   "outputs": [],
   "source": [
    "import json"
   ]
  },
  {
   "cell_type": "code",
   "execution_count": 73,
   "id": "cdda4482",
   "metadata": {},
   "outputs": [],
   "source": [
    "d1=json.loads(var)"
   ]
  },
  {
   "cell_type": "code",
   "execution_count": 75,
   "id": "182b6f74",
   "metadata": {},
   "outputs": [
    {
     "data": {
      "text/plain": [
       "dict"
      ]
     },
     "execution_count": 75,
     "metadata": {},
     "output_type": "execute_result"
    }
   ],
   "source": [
    "type(d1)"
   ]
  },
  {
   "cell_type": "code",
   "execution_count": 76,
   "id": "97f733ec",
   "metadata": {},
   "outputs": [],
   "source": [
    "var_string=json.dumps(d1)"
   ]
  },
  {
   "cell_type": "code",
   "execution_count": 77,
   "id": "6afdc1e7",
   "metadata": {},
   "outputs": [
    {
     "data": {
      "text/plain": [
       "'{\"name\": \"dhoni\", \"age\": 33}'"
      ]
     },
     "execution_count": 77,
     "metadata": {},
     "output_type": "execute_result"
    }
   ],
   "source": [
    "var_string"
   ]
  },
  {
   "cell_type": "code",
   "execution_count": 78,
   "id": "dad25361",
   "metadata": {},
   "outputs": [
    {
     "data": {
      "text/plain": [
       "str"
      ]
     },
     "execution_count": 78,
     "metadata": {},
     "output_type": "execute_result"
    }
   ],
   "source": [
    "type(var_string)"
   ]
  },
  {
   "cell_type": "code",
   "execution_count": 79,
   "id": "392651d9",
   "metadata": {},
   "outputs": [
    {
     "data": {
      "text/plain": [
       "['JSONDecodeError',\n",
       " 'JSONDecoder',\n",
       " 'JSONEncoder',\n",
       " '__all__',\n",
       " '__author__',\n",
       " '__builtins__',\n",
       " '__cached__',\n",
       " '__doc__',\n",
       " '__file__',\n",
       " '__loader__',\n",
       " '__name__',\n",
       " '__package__',\n",
       " '__path__',\n",
       " '__spec__',\n",
       " '__version__',\n",
       " '_default_decoder',\n",
       " '_default_encoder',\n",
       " 'codecs',\n",
       " 'decoder',\n",
       " 'detect_encoding',\n",
       " 'dump',\n",
       " 'dumps',\n",
       " 'encoder',\n",
       " 'load',\n",
       " 'loads',\n",
       " 'scanner']"
      ]
     },
     "execution_count": 79,
     "metadata": {},
     "output_type": "execute_result"
    }
   ],
   "source": [
    "dir(json)"
   ]
  },
  {
   "cell_type": "code",
   "execution_count": 80,
   "id": "6ae06e44",
   "metadata": {},
   "outputs": [],
   "source": [
    "var={\"name\":\"harish\",\"sur\":\"thota\",\"age\":\"20\"}"
   ]
  },
  {
   "cell_type": "code",
   "execution_count": 81,
   "id": "85452650",
   "metadata": {},
   "outputs": [
    {
     "data": {
      "text/plain": [
       "'20'"
      ]
     },
     "execution_count": 81,
     "metadata": {},
     "output_type": "execute_result"
    }
   ],
   "source": [
    "var.pop(\"age\")"
   ]
  },
  {
   "cell_type": "code",
   "execution_count": 83,
   "id": "68eaebbf",
   "metadata": {},
   "outputs": [
    {
     "data": {
      "text/plain": [
       "('sur', 'thota')"
      ]
     },
     "execution_count": 83,
     "metadata": {},
     "output_type": "execute_result"
    }
   ],
   "source": [
    "var.popitem()"
   ]
  },
  {
   "cell_type": "code",
   "execution_count": 84,
   "id": "fd638eef",
   "metadata": {},
   "outputs": [
    {
     "data": {
      "text/plain": [
       "{'name': 'harish'}"
      ]
     },
     "execution_count": 84,
     "metadata": {},
     "output_type": "execute_result"
    }
   ],
   "source": [
    "var"
   ]
  },
  {
   "cell_type": "code",
   "execution_count": 85,
   "id": "0115ad6b",
   "metadata": {
    "scrolled": true
   },
   "outputs": [
    {
     "data": {
      "text/plain": [
       "['__class__',\n",
       " '__contains__',\n",
       " '__delattr__',\n",
       " '__delitem__',\n",
       " '__dir__',\n",
       " '__doc__',\n",
       " '__eq__',\n",
       " '__format__',\n",
       " '__ge__',\n",
       " '__getattribute__',\n",
       " '__getitem__',\n",
       " '__gt__',\n",
       " '__hash__',\n",
       " '__init__',\n",
       " '__init_subclass__',\n",
       " '__iter__',\n",
       " '__le__',\n",
       " '__len__',\n",
       " '__lt__',\n",
       " '__ne__',\n",
       " '__new__',\n",
       " '__reduce__',\n",
       " '__reduce_ex__',\n",
       " '__repr__',\n",
       " '__reversed__',\n",
       " '__setattr__',\n",
       " '__setitem__',\n",
       " '__sizeof__',\n",
       " '__str__',\n",
       " '__subclasshook__',\n",
       " 'clear',\n",
       " 'copy',\n",
       " 'fromkeys',\n",
       " 'get',\n",
       " 'items',\n",
       " 'keys',\n",
       " 'pop',\n",
       " 'popitem',\n",
       " 'setdefault',\n",
       " 'update',\n",
       " 'values']"
      ]
     },
     "execution_count": 85,
     "metadata": {},
     "output_type": "execute_result"
    }
   ],
   "source": [
    "dir(dict)"
   ]
  },
  {
   "cell_type": "code",
   "execution_count": 4,
   "id": "7c7043d9",
   "metadata": {},
   "outputs": [
    {
     "name": "stdout",
     "output_type": "stream",
     "text": [
      "Hello! What is your name?\n",
      "10\n",
      "Well, 10, I am thinking of a number between 1 and 20.\n",
      "Take a guess.\n",
      "10\n",
      "Your guess is too high.\n",
      "Take a guess.\n",
      "5\n",
      "Your guess is too low.\n",
      "Take a guess.\n",
      "7\n",
      "Your guess is too low.\n",
      "Take a guess.\n",
      "9\n",
      "Good job, 10! You guessed my number in 4 guesses!\n"
     ]
    }
   ],
   "source": [
    "import random\n",
    "\n",
    "guessesTaken = 0\n",
    "\n",
    "print('Hello! What is your name?')\n",
    "myName = input()\n",
    "\n",
    "number = random.randint(1, 20)\n",
    "print('Well, ' + myName + ', I am thinking of a number between 1 and 20.')\n",
    "\n",
    "while guessesTaken < 6:\n",
    "    print('Take a guess.') # There are four spaces in front of print.\n",
    "    guess = input()\n",
    "    guess = int(guess)\n",
    "\n",
    "    guessesTaken = guessesTaken + 1\n",
    "\n",
    "    if guess < number:\n",
    "        print('Your guess is too low.') # There are eight spaces in front of print.\n",
    "\n",
    "    if guess > number:\n",
    "        print('Your guess is too high.')\n",
    "\n",
    "    if guess == number:\n",
    "        break\n",
    "\n",
    "if guess == number:\n",
    "    guessesTaken = str(guessesTaken)\n",
    "    print('Good job, ' + myName + '! You guessed my number in ' + guessesTaken + ' guesses!')\n",
    "\n",
    "if guess != number:\n",
    "    number = str(number)\n",
    "    print('Nope. The number I was thinking of was ' + number)"
   ]
  },
  {
   "cell_type": "code",
   "execution_count": 5,
   "id": "49cea7d3",
   "metadata": {},
   "outputs": [
    {
     "name": "stdout",
     "output_type": "stream",
     "text": [
      "I am thinking of a 3-digit number. Try to guess what it is.\n",
      "Here are some clues:\n",
      "When I say:    That means:\n",
      "  Pico         One digit is correct but in the wrong position.\n",
      "  Fermi        One digit is correct and in the right position.\n",
      "  Bagels       No digit is correct.\n",
      "I have thought up a number. You have 10 guesses to get it.\n",
      "Guess #1: \n",
      "910\n",
      "Pico\n",
      "Guess #2: \n",
      "109\n",
      "Fermi\n",
      "Guess #3: \n",
      "409\n",
      "Bagels\n",
      "Guess #4: \n",
      "165\n",
      "Fermi\n",
      "Guess #5: \n",
      "423\n",
      "Pico Pico\n",
      "Guess #6: \n",
      "132\n",
      "You got it!\n",
      "Do you want to play again? (yes or no)\n",
      "yes\n",
      "I have thought up a number. You have 10 guesses to get it.\n",
      "Guess #1: \n",
      "120\n",
      "Pico\n",
      "Guess #2: \n",
      "210\n",
      "Pico\n",
      "Guess #3: \n",
      "920\n",
      "Pico\n",
      "Guess #4: \n",
      "240\n",
      "Pico Pico\n",
      "Guess #5: \n",
      "420\n",
      "Pico Pico\n",
      "Guess #6: \n",
      "024\n",
      "Fermi Pico\n",
      "Guess #7: \n",
      "642\n",
      "Pico\n",
      "Guess #8: \n",
      "205\n",
      "Fermi Pico\n",
      "Guess #9: \n",
      "260\n",
      "Pico\n",
      "Guess #10: \n",
      "504\n",
      "You got it!\n",
      "Do you want to play again? (yes or no)\n",
      "yes\n",
      "I have thought up a number. You have 10 guesses to get it.\n",
      "Guess #1: \n",
      "456\n",
      "Fermi\n",
      "Guess #2: \n",
      "758\n",
      "Bagels\n",
      "Guess #3: \n",
      "236\n",
      "Pico\n",
      "Guess #4: \n",
      "409\n",
      "Fermi Fermi\n",
      "Guess #5: \n",
      "490\n",
      "Fermi Pico\n",
      "Guess #6: \n",
      "402\n",
      "You got it!\n",
      "Do you want to play again? (yes or no)\n",
      "no\n"
     ]
    }
   ],
   "source": [
    "import random\n",
    "def getSecretNum(numDigits):\n",
    "    # Returns a string that is numDigits long, made up of unique random digits.\n",
    "    numbers = list(range(10))\n",
    "    random.shuffle(numbers)\n",
    "    secretNum = ''\n",
    "    for i in range(numDigits):\n",
    "        secretNum += str(numbers[i])\n",
    "    return secretNum\n",
    "\n",
    "def getClues(guess, secretNum):\n",
    "    # Returns a string with the pico, fermi, bagels clues to the user.\n",
    "    if guess == secretNum:\n",
    "        return 'You got it!'\n",
    "\n",
    "    clue = []\n",
    "\n",
    "    for i in range(len(guess)):\n",
    "        if guess[i] == secretNum[i]:\n",
    "            clue.append('Fermi')\n",
    "        elif guess[i] in secretNum:\n",
    "            clue.append('Pico')\n",
    "    if len(clue) == 0:\n",
    "        return 'Bagels'\n",
    "\n",
    "    clue.sort()\n",
    "    return ' '.join(clue)\n",
    "\n",
    "def isOnlyDigits(num):\n",
    "    # Returns True if num is a string made up only of digits. Otherwise returns False.\n",
    "    if num == '':\n",
    "        return False\n",
    "\n",
    "    for i in num:\n",
    "        if i not in '0 1 2 3 4 5 6 7 8 9'.split():\n",
    "            return False\n",
    "\n",
    "    return True\n",
    "\n",
    "def playAgain():\n",
    "    # This function returns True if the player wants to play again, otherwise it returns False.\n",
    "    print('Do you want to play again? (yes or no)')\n",
    "    return input().lower().startswith('y')\n",
    "\n",
    "NUMDIGITS = 3\n",
    "MAXGUESS = 10\n",
    "\n",
    "print('I am thinking of a %s-digit number. Try to guess what it is.' % (NUMDIGITS))\n",
    "print('Here are some clues:')\n",
    "print('When I say:    That means:')\n",
    "print('  Pico         One digit is correct but in the wrong position.')\n",
    "print('  Fermi        One digit is correct and in the right position.')\n",
    "print('  Bagels       No digit is correct.')\n",
    "\n",
    "while True:\n",
    "    secretNum = getSecretNum(NUMDIGITS)\n",
    "    print('I have thought up a number. You have %s guesses to get it.' % (MAXGUESS))\n",
    "\n",
    "    numGuesses = 1\n",
    "    while numGuesses <= MAXGUESS:\n",
    "        guess = ''\n",
    "        while len(guess) != NUMDIGITS or not isOnlyDigits(guess):\n",
    "            print('Guess #%s: ' % (numGuesses))\n",
    "            guess = input()\n",
    "\n",
    "        clue = getClues(guess, secretNum)\n",
    "        print(clue)\n",
    "        numGuesses += 1\n",
    "\n",
    "        if guess == secretNum:\n",
    "            break\n",
    "        if numGuesses > MAXGUESS:\n",
    "            print('You ran out of guesses. The answer was %s.' % (secretNum))\n",
    "\n",
    "    if not playAgain():\n",
    "        break"
   ]
  },
  {
   "cell_type": "code",
   "execution_count": null,
   "id": "74b64f04",
   "metadata": {},
   "outputs": [],
   "source": []
  }
 ],
 "metadata": {
  "kernelspec": {
   "display_name": "Python 3",
   "language": "python",
   "name": "python3"
  },
  "language_info": {
   "codemirror_mode": {
    "name": "ipython",
    "version": 3
   },
   "file_extension": ".py",
   "mimetype": "text/x-python",
   "name": "python",
   "nbconvert_exporter": "python",
   "pygments_lexer": "ipython3",
   "version": "3.8.8"
  }
 },
 "nbformat": 4,
 "nbformat_minor": 5
}
