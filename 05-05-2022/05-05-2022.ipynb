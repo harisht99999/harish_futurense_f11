{
 "cells": [
  {
   "cell_type": "code",
   "execution_count": 67,
   "id": "bcc0cfae",
   "metadata": {},
   "outputs": [
    {
     "name": "stdout",
     "output_type": "stream",
     "text": [
      "starttime: 1651810138.0310898\n",
      "endtime: 1651810138.0789948\n",
      "time program took to run 0.04790496826171875 seconds\n"
     ]
    }
   ],
   "source": [
    "import time\n",
    "import threading\n",
    "start=time.time()\n",
    "print(\"starttime:\",time.time())\n",
    "from PyPDF2 import PdfFileReader,PdfFileWriter\n",
    "def pdfreader(filepath,password=\"harish\"):\n",
    "    file=PdfFileReader(filepath)\n",
    "    text=\"\"\n",
    "    if file.isEncrypted:\n",
    "        out=PdfFileWriter()\n",
    "        file.decrypt(password)\n",
    "        for index in range(file.numPages):\n",
    "            page=file.getPage(index)\n",
    "            out.addPage(page)\n",
    "        with open(\"decrypted.pdf\", \"wb\") as f:\n",
    "            out.write(f)\n",
    "        filepath=\"decrypted.pdf\"\n",
    "    pdfFileObj=open(filepath,\"rb\")\n",
    "    pdfreader=PdfFileReader(pdfFileObj)\n",
    "    text=\"\"\n",
    "    for i in range(pdfreader.numPages):\n",
    "        pageObj=pdfreader.getPage(i)\n",
    "        text+=pageObj.extractText()\n",
    "    pdfFileObj.close() \n",
    "    return text\n",
    "import os\n",
    "path=os.getcwd()\n",
    "c=os.listdir(path)\n",
    "for i in c:\n",
    "    if i.endswith(\"pdf\"):\n",
    "        try:\n",
    "            pdfreader(i)\n",
    "        except:\n",
    "            pass\n",
    "print(\"endtime:\",time.time())\n",
    "end=time.time()\n",
    "t=end-start\n",
    "print(\"time program took to run\",end-start,\"seconds\")"
   ]
  },
  {
   "cell_type": "code",
   "execution_count": 68,
   "id": "ab2a6012",
   "metadata": {},
   "outputs": [
    {
     "name": "stdout",
     "output_type": "stream",
     "text": [
      "starttime: 1651810141.003218\n",
      "endtime: 1651810141.0062335\n",
      "time program took to run 0.0031824111938476562 seconds\n"
     ]
    }
   ],
   "source": [
    "import time\n",
    "import threading\n",
    "start=time.time()\n",
    "print(\"starttime:\",time.time())\n",
    "from PyPDF2 import PdfFileReader,PdfFileWriter\n",
    "def pdfreader(filepath,password=\"harish\"):\n",
    "    file=PdfFileReader(filepath)\n",
    "    text=\"\"\n",
    "    if file.isEncrypted:\n",
    "        out=PdfFileWriter()\n",
    "        file.decrypt(password)\n",
    "        for index in range(file.numPages):\n",
    "            page=file.getPage(index)\n",
    "            out.addPage(page)\n",
    "        with open(\"decrypted.pdf\", \"wb\") as f:\n",
    "            out.write(f)\n",
    "        filepath=\"decrypted.pdf\"\n",
    "    pdfFileObj=open(filepath,\"rb\")\n",
    "    pdfreader=PdfFileReader(pdfFileObj)\n",
    "    text=\"\"\n",
    "    for i in range(pdfreader.numPages):\n",
    "        pageObj=pdfreader.getPage(i)\n",
    "        text+=pageObj.extractText()\n",
    "    pdfFileObj.close() \n",
    "    return text\n",
    "import os\n",
    "path=os.getcwd()\n",
    "c=os.listdir(path)\n",
    "for i in c:\n",
    "    if i.endswith(\"pdf\"):\n",
    "        try:\n",
    "            t1=threading.Thread(pdfreader,args=[i,])\n",
    "            t1.start()\n",
    "            t1.join()\n",
    "        except:\n",
    "            pass\n",
    "print(\"endtime:\",time.time())\n",
    "end=time.time()\n",
    "t1=end-start\n",
    "print(\"time program took to run\",end-start,\"seconds\")"
   ]
  },
  {
   "cell_type": "code",
   "execution_count": 75,
   "id": "2aeb04dd",
   "metadata": {},
   "outputs": [
    {
     "name": "stdout",
     "output_type": "stream",
     "text": [
      "time decreased using threads 93.36 %\n"
     ]
    }
   ],
   "source": [
    "print(\"time decreased using threads\",round(((t-t1)/t)*100,2),\"%\")"
   ]
  },
  {
   "cell_type": "code",
   "execution_count": null,
   "id": "1874c06d",
   "metadata": {},
   "outputs": [],
   "source": []
  }
 ],
 "metadata": {
  "kernelspec": {
   "display_name": "Python 3",
   "language": "python",
   "name": "python3"
  },
  "language_info": {
   "codemirror_mode": {
    "name": "ipython",
    "version": 3
   },
   "file_extension": ".py",
   "mimetype": "text/x-python",
   "name": "python",
   "nbconvert_exporter": "python",
   "pygments_lexer": "ipython3",
   "version": "3.8.8"
  }
 },
 "nbformat": 4,
 "nbformat_minor": 5
}
