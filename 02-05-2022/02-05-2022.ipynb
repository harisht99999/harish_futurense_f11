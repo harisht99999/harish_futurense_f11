{
 "cells": [
  {
   "cell_type": "code",
   "execution_count": 2,
   "id": "c72a6103",
   "metadata": {},
   "outputs": [
    {
     "name": "stdout",
     "output_type": "stream",
     "text": [
      "Note: you may need to restart the kernel to use updated packages.\n"
     ]
    },
    {
     "name": "stderr",
     "output_type": "stream",
     "text": [
      "ERROR: Could not find a version that satisfies the requirement tkinter\n",
      "ERROR: No matching distribution found for tkinter\n"
     ]
    }
   ],
   "source": [
    "pip install tkinter"
   ]
  },
  {
   "cell_type": "code",
   "execution_count": 1,
   "id": "b927aa9f",
   "metadata": {},
   "outputs": [],
   "source": [
    "from tkinter import *   \n",
    "top = 0\n",
    "d=0\n",
    "example=0\n",
    "example1=0\n",
    "def backdml():\n",
    "    global d\n",
    "    d.destroy()\n",
    "    main()\n",
    "def backcommandsdml():\n",
    "    global example\n",
    "    example.destroy()\n",
    "    sublist(0)\n",
    "def backcommandsddl():\n",
    "    global example1\n",
    "    example1.destroy()\n",
    "    sublist(0)\n",
    "def main():\n",
    "    global top\n",
    "    top=Tk()\n",
    "    top.geometry(\"500x500\")  \n",
    "    b = Button(top,text = \"DB Operation\",bg=\"black\",fg=\"white\",activebackground=\"white\",activeforeground=\"black\",command=sublist)  \n",
    "    b.config(height=10,width=25)\n",
    "    b.place(x=150,y=150)\n",
    "    top. mainloop()\n",
    "    \n",
    "def sublist(f=1):\n",
    "    global top,d\n",
    "    if f:\n",
    "        top.destroy()\n",
    "    d=Tk()\n",
    "    d.geometry(\"500x500\")  \n",
    "    b = Button(d,text = \"DML\",bg=\"black\",fg=\"white\",activebackground=\"white\",activeforeground=\"black\",command=commandsdml)  \n",
    "    b.config(height=5,width=13)\n",
    "    b.place(x=125,y=150)  \n",
    "    b1 = Button(d,text = \"DDL\",bg=\"black\",fg=\"white\",activebackground=\"white\",activeforeground=\"black\",command=commandsddl)  \n",
    "    b1.config(height=5,width=13)\n",
    "    b1.place(x=250,y=150)  \n",
    "    b2 = Button(d,text = \"<-Back\",command=backdml)  \n",
    "    b2.place(x=5,y=5)  \n",
    "    d. mainloop()\n",
    "def commandsdml():\n",
    "    global d,example\n",
    "    d.destroy()\n",
    "    def insert():\n",
    "        l.config(text=\"INSERT INTO table_name (column1, column2, column3, ...)\\nVALUES (value1, value2, value3, ...);\")\n",
    "    def update():\n",
    "        l.config(text=\"UPDATE table_name SET column1 = value1, column2 = value2, ...\\n WHERE condition;\")\n",
    "    def delete():\n",
    "        l.config(text=\"DELETE FROM table_name WHERE condition;\")\n",
    "    example=Tk()\n",
    "    example.geometry(\"500x500\")\n",
    "    b = Button(example,text = \"insert\",bg=\"black\",fg=\"white\",activebackground=\"white\",activeforeground=\"black\",command=insert)  \n",
    "    b.config(height=5,width=13)\n",
    "    b.place(x=75,y=150)  \n",
    "    b1 = Button(example,text = \"update\",bg=\"black\",fg=\"white\",activebackground=\"white\",activeforeground=\"black\",command=update)  \n",
    "    b1.config(height=5,width=13)\n",
    "    b1.place(x=200,y=150)\n",
    "    b3 = Button(example,text = \"delete\",bg=\"black\",fg=\"white\",activebackground=\"white\",activeforeground=\"black\",command=delete)  \n",
    "    b3.config(height=5,width=13)\n",
    "    b3.place(x=325,y=150)\n",
    "    b2 = Button(example,text = \"<-Back\",command=backcommandsdml)  \n",
    "    b2.place(x=5,y=5) \n",
    "    l=Label(example,text = \"example\")\n",
    "    l.place(x=75,y=300)\n",
    "    example.mainloop()\n",
    "def commandsddl():\n",
    "    global d,example1\n",
    "    d.destroy()\n",
    "    def create():\n",
    "        l.config(text=\"CREATE TABLE table_name \\n(column1 datatype,column2 datatype,column3 datatype,....);\")\n",
    "    def drop():\n",
    "        l.config(text=\"DROP TABLE table_name;\")\n",
    "    def alter():\n",
    "        l.config(text=\"ALTER TABLE table_name  ADD column_name\\n datatype;\")\n",
    "    def truncate():\n",
    "        l.config(text=\"TRUNCATE TABLE  table_name;\")\n",
    "    def rename():\n",
    "        l.config(text=\"ALTER TABLE table_name RENAME TO \\nnew_table_name;\")\n",
    "    example1=Tk()\n",
    "    example1.geometry(\"500x500\")\n",
    "    b = Button(example1,text = \"create\",bg=\"black\",fg=\"white\",activebackground=\"white\",activeforeground=\"black\",command=create)  \n",
    "    b.config(height=5,width=13)\n",
    "    b.place(x=75,y=50)  \n",
    "    b1 = Button(example1,text = \"drop\",bg=\"black\",fg=\"white\",activebackground=\"white\",activeforeground=\"black\",command=drop)  \n",
    "    b1.config(height=5,width=13)\n",
    "    b1.place(x=200,y=50)\n",
    "    b3 = Button(example1,text = \"alter\",bg=\"black\",fg=\"white\",activebackground=\"white\",activeforeground=\"black\",command=alter)  \n",
    "    b3.config(height=5,width=13)\n",
    "    b3.place(x=325,y=50)\n",
    "    b4 = Button(example1,text = \"truncate\",bg=\"black\",fg=\"white\",activebackground=\"white\",activeforeground=\"black\",command=truncate)  \n",
    "    b4.config(height=5,width=13)\n",
    "    b4.place(x=150,y=150)\n",
    "    b5 = Button(example1,text = \"rename\",bg=\"black\",fg=\"white\",activebackground=\"white\",activeforeground=\"black\",command=rename)  \n",
    "    b5.config(height=5,width=13)\n",
    "    b5.place(x=275,y=150)\n",
    "    b2 = Button(example1,text = \"<-Back\",command=backcommandsddl)  \n",
    "    b2.place(x=5,y=5) \n",
    "    l=Label(example1,text = \"example\")\n",
    "    l.place(x=75,y=300)\n",
    "    example1.mainloop()\n",
    "    \n",
    "    \n",
    "\n",
    "main()"
   ]
  },
  {
   "cell_type": "code",
   "execution_count": 3,
   "id": "887d699d",
   "metadata": {},
   "outputs": [],
   "source": [
    "import flask"
   ]
  },
  {
   "cell_type": "code",
   "execution_count": 4,
   "id": "3a02f371",
   "metadata": {},
   "outputs": [
    {
     "name": "stdout",
     "output_type": "stream",
     "text": [
      " * Serving Flask app \"__main__\" (lazy loading)\n",
      " * Environment: production\n",
      "   WARNING: This is a development server. Do not use it in a production deployment.\n",
      "   Use a production WSGI server instead.\n",
      " * Debug mode: off\n"
     ]
    },
    {
     "name": "stderr",
     "output_type": "stream",
     "text": [
      " * Running on http://127.0.0.1:5000/ (Press CTRL+C to quit)\n",
      "127.0.0.1 - - [03/May/2022 10:43:06] \"\u001b[37mGET / HTTP/1.1\u001b[0m\" 200 -\n",
      "127.0.0.1 - - [03/May/2022 10:43:06] \"\u001b[33mGET /favicon.ico HTTP/1.1\u001b[0m\" 404 -\n",
      "127.0.0.1 - - [03/May/2022 10:43:29] \"\u001b[37mGET /books/all HTTP/1.1\u001b[0m\" 200 -\n",
      "127.0.0.1 - - [03/May/2022 10:43:54] \"\u001b[37mGET /books/all HTTP/1.1\u001b[0m\" 200 -\n",
      "127.0.0.1 - - [03/May/2022 10:43:54] \"\u001b[37mGET /books/all HTTP/1.1\u001b[0m\" 200 -\n"
     ]
    }
   ],
   "source": [
    "from flask import request, jsonify\n",
    "app=flask.Flask(__name__)\n",
    "books=[\n",
    "    {\n",
    "        'id':0,\n",
    "        'title':'A Fire Upon the Deep',\n",
    "        'author':'vernor vingo',\n",
    "        'first_sentense':'The coldsleep itself was dreamless.',\n",
    "        'year_published':'1992',\n",
    "    },\n",
    "    {\n",
    "        'id':1,\n",
    "        'title':'The Ones Who Walk Away from omelas',\n",
    "        'author':'Ursula k.Le Guin',\n",
    "        'first_sentense':'with a clamor of bells that set the swallows soaring,the festival of summer came to the city omlas,brigh',\n",
    "        'published':'1975'\n",
    "    },\n",
    "    {\n",
    "        'id':2,\n",
    "        'title':'Dhalgren',\n",
    "        'author':'Samuel R. Delany',\n",
    "        'first_sentense':'to wound the autumnal city',\n",
    "        'published':'1975'\n",
    "    }\n",
    "]\n",
    "@app.route('/',methods=['GET'])\n",
    "def home():\n",
    "    return 'hello to my api'\n",
    "@app.route('/books/all',methods=['GET'])\n",
    "def api_all():\n",
    "    return jsonify(books)\n",
    "app.run()"
   ]
  },
  {
   "cell_type": "code",
   "execution_count": null,
   "id": "f2000b4b",
   "metadata": {},
   "outputs": [],
   "source": []
  }
 ],
 "metadata": {
  "kernelspec": {
   "display_name": "Python 3",
   "language": "python",
   "name": "python3"
  },
  "language_info": {
   "codemirror_mode": {
    "name": "ipython",
    "version": 3
   },
   "file_extension": ".py",
   "mimetype": "text/x-python",
   "name": "python",
   "nbconvert_exporter": "python",
   "pygments_lexer": "ipython3",
   "version": "3.8.8"
  }
 },
 "nbformat": 4,
 "nbformat_minor": 5
}
